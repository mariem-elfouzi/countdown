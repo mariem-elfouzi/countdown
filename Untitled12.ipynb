{
  "nbformat": 4,
  "nbformat_minor": 0,
  "metadata": {
    "colab": {
      "name": "Untitled12.ipynb",
      "provenance": [],
      "collapsed_sections": [],
      "authorship_tag": "ABX9TyO9stxdp5YSpbNVPHu0NSIc",
      "include_colab_link": true
    },
    "kernelspec": {
      "name": "python3",
      "display_name": "Python 3"
    },
    "language_info": {
      "name": "python"
    }
  },
  "cells": [
    {
      "cell_type": "markdown",
      "metadata": {
        "id": "view-in-github",
        "colab_type": "text"
      },
      "source": [
        "<a href=\"https://colab.research.google.com/github/mariem-elfouzi/countdown/blob/main/Untitled12.ipynb\" target=\"_parent\"><img src=\"https://colab.research.google.com/assets/colab-badge.svg\" alt=\"Open In Colab\"/></a>"
      ]
    },
    {
      "cell_type": "code",
      "metadata": {
        "colab": {
          "base_uri": "https://localhost:8080/"
        },
        "id": "BxB3AOtlqo6C",
        "outputId": "d4a10565-bd1d-4ee5-ec7c-ea4b302021da"
      },
      "source": [
        "import time\n",
        "t=int(input('donner le nombre de secondes'))\n",
        "def countdown(t):\n",
        "  while t>0:\n",
        "    m=divmod(t,60)\n",
        "    secondes=m[1]\n",
        "    minutes=m[0]\n",
        "    timeformat = '{:02d}:{:02d}'.format(minutes, secondes)\n",
        "    print(timeformat,end='\\r')\n",
        "    time.sleep(1)\n",
        "    t=t-1\n",
        "    \n",
        "  print('fire in the hole')\n",
        "countdown(t)"
      ],
      "execution_count": 5,
      "outputs": [
        {
          "output_type": "stream",
          "text": [
            "donner le nombre de secondes3\n",
            "fire in the hole\n"
          ],
          "name": "stdout"
        }
      ]
    }
  ]
}